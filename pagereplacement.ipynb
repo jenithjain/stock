{
 "cells": [
  {
   "cell_type": "markdown",
   "metadata": {},
   "source": [
    "FIFO\n"
   ]
  },
  {
   "cell_type": "code",
   "execution_count": 1,
   "metadata": {},
   "outputs": [
    {
     "name": "stdout",
     "output_type": "stream",
     "text": [
      "7: [7]\n",
      "0: [7, 0]\n",
      "1: [7, 0, 1]\n",
      "2: [7, 0, 1, 2]\n",
      "0: [7, 0, 1, 2]\n",
      "3: [0, 1, 2, 3]\n",
      "0: [0, 1, 2, 3]\n",
      "4: [1, 2, 3, 4]\n",
      "2: [1, 2, 3, 4]\n",
      "3: [1, 2, 3, 4]\n",
      "0: [2, 3, 4, 0]\n",
      "3: [2, 3, 4, 0]\n",
      "2: [2, 3, 4, 0]\n",
      "\n",
      "Page Faults: 7\n",
      "Hits: 6\n"
     ]
    }
   ],
   "source": [
    "def fifo(pages, frame_size):\n",
    "    frames = []\n",
    "    page_faults = 0\n",
    "    hits = 0\n",
    "    for page in pages:\n",
    "        if page not in frames:\n",
    "            page_faults += 1\n",
    "            if len(frames) < frame_size:\n",
    "                frames.append(page)\n",
    "            else:\n",
    "                frames.pop(0)  # Remove the first page\n",
    "                frames.append(page)\n",
    "        else:\n",
    "            hits += 1  # Page is a hit\n",
    "        print(f\"{page}: {frames}\")\n",
    "    return page_faults, hits\n",
    "\n",
    "# Test FIFO\n",
    "pages = [7, 0, 1, 2, 0, 3, 0, 4, 2, 3, 0, 3, 2]\n",
    "frame_size = 4\n",
    "page_faults, hits = fifo(pages, frame_size)\n",
    "print(f\"\\nPage Faults: {page_faults}\")\n",
    "print(f\"Hits: {hits}\")\n"
   ]
  },
  {
   "cell_type": "code",
   "execution_count": null,
   "metadata": {},
   "outputs": [],
   "source": []
  }
 ],
 "metadata": {
  "kernelspec": {
   "display_name": "Python 3",
   "language": "python",
   "name": "python3"
  },
  "language_info": {
   "codemirror_mode": {
    "name": "ipython",
    "version": 3
   },
   "file_extension": ".py",
   "mimetype": "text/x-python",
   "name": "python",
   "nbconvert_exporter": "python",
   "pygments_lexer": "ipython3",
   "version": "3.12.4"
  }
 },
 "nbformat": 4,
 "nbformat_minor": 2
}
