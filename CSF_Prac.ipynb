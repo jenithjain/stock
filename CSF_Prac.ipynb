{
 "cells": [
  {
   "cell_type": "markdown",
   "id": "8aad663b-3bc5-401a-80ea-f1ed0631cc5e",
   "metadata": {},
   "source": [
    "##FCFS##"
   ]
  },
  {
   "cell_type": "code",
   "execution_count": 2,
   "id": "c68d41b9-6294-448a-8954-906dea21528c",
   "metadata": {},
   "outputs": [
    {
     "name": "stdin",
     "output_type": "stream",
     "text": [
      "Enter number of process:  3\n",
      "AT of P1: 04\n",
      "AT of P2: 4\n",
      "AT of P3: 1\n",
      "BT of P1: 3\n",
      "BT of P2: 2\n",
      "BT of P3: 1\n"
     ]
    },
    {
     "name": "stdout",
     "output_type": "stream",
     "text": [
      "\n",
      "P\tAT\tBT\tCT\tTAT\tWT\n",
      "P1\t4\t3\t7\t3\t0\n",
      "P2\t4\t2\t9\t5\t3\n",
      "P3\t1\t1\t10\t9\t8\n"
     ]
    }
   ],
   "source": [
    "n=int(input(\"Enter number of process: \"))\n",
    "at=[int(input(f\"AT of P{i+1}:\")) for i in range(n)]\n",
    "bt=[int(input(f\"BT of P{i+1}:\")) for i in range(n)]\n",
    "\n",
    "ct,tat,wt=[0]*n,[0]*n,[0]*n\n",
    "ct[0]=at[0]+bt[0]\n",
    "\n",
    "for i in range(1,n):\n",
    "    ct[i]=max(ct[i-1],at[i])+bt[i]\n",
    "\n",
    "for i in range(n):\n",
    "    tat[i] = ct[i] - at[i]\n",
    "    wt[i] = tat[i] - bt[i]\n",
    "\n",
    "print(\"\\nP\\tAT\\tBT\\tCT\\tTAT\\tWT\")\n",
    "for i in range(n):\n",
    "    print(f\"P{i+1}\\t{at[i]}\\t{bt[i]}\\t{ct[i]}\\t{tat[i]}\\t{wt[i]}\")\n"
   ]
  },
  {
   "cell_type": "markdown",
   "id": "793218b3-ecbf-4cb7-9c71-66244be8fef3",
   "metadata": {},
   "source": [
    "SJF"
   ]
  },
  {
   "cell_type": "code",
   "execution_count": 10,
   "id": "0b5278e8-6c33-46cc-b1ca-46c5aef41eee",
   "metadata": {},
   "outputs": [
    {
     "name": "stdin",
     "output_type": "stream",
     "text": [
      "Enter number of processes:  3\n",
      "Arrival Time of P1:  0\n",
      "Arrival Time of P2:  4\n",
      "Arrival Time of P3:  1\n",
      "Burst Time of P1:  3\n",
      "Burst Time of P2:  2\n",
      "Burst Time of P3:  1\n"
     ]
    },
    {
     "name": "stdout",
     "output_type": "stream",
     "text": [
      "\n",
      "P\tAT\tBT\tCT\tTAT\tWT\n",
      "P1\t0\t3\t3\t3\t0\n",
      "P2\t4\t2\t6\t2\t0\n",
      "P3\t1\t1\t4\t3\t2\n",
      "\n",
      "Average Turnaround Time: 2.67\n",
      "Average Waiting Time: 0.67\n"
     ]
    }
   ],
   "source": [
    "# Input: Number of processes, Arrival Time (AT), and Burst Time (BT)\n",
    "n = int(input(\"Enter number of processes: \"))\n",
    "at = [int(input(f\"Arrival Time of P{i+1}: \")) for i in range(n)]\n",
    "bt = [int(input(f\"Burst Time of P{i+1}: \")) for i in range(n)]\n",
    "\n",
    "# Initialize Completion Time (CT), Turnaround Time (TAT), Waiting Time (WT)\n",
    "ct = [0] * n\n",
    "tat = [0] * n\n",
    "wt = [0] * n\n",
    "time = 0\n",
    "completed = [False] * n\n",
    "\n",
    "# Process execution in SJF order\n",
    "for _ in range(n):\n",
    "    # Find the next process to execute (Shortest Job First)\n",
    "    shortest = -1\n",
    "    for i in range(n):\n",
    "        if not completed[i] and at[i] <= time:\n",
    "            if shortest == -1 or bt[i] < bt[shortest]:\n",
    "                shortest = i\n",
    "\n",
    "    if shortest == -1:\n",
    "        # No process has arrived yet, increment time\n",
    "        time += 1\n",
    "    else:\n",
    "        # Execute the selected process\n",
    "        time += bt[shortest]\n",
    "        ct[shortest] = time\n",
    "        tat[shortest] = ct[shortest] - at[shortest]  # TAT = CT - AT\n",
    "        wt[shortest] = tat[shortest] - bt[shortest]  # WT = TAT - BT\n",
    "        completed[shortest] = True\n",
    "\n",
    "# Print process details\n",
    "print(\"\\nP\\tAT\\tBT\\tCT\\tTAT\\tWT\")\n",
    "for i in range(n):\n",
    "    print(f\"P{i+1}\\t{at[i]}\\t{bt[i]}\\t{ct[i]}\\t{tat[i]}\\t{wt[i]}\")\n",
    "\n",
    "# Calculate and print average TAT and WT\n",
    "print(f\"\\nAverage Turnaround Time: {sum(tat) / n:.2f}\")\n",
    "print(f\"Average Waiting Time: {sum(wt) / n:.2f}\")\n"
   ]
  },
  {
   "cell_type": "markdown",
   "id": "2b6c0271-a1e6-45ed-aa21-c9d008b5e4a7",
   "metadata": {},
   "source": [
    "prority scheduling"
   ]
  },
  {
   "cell_type": "code",
   "execution_count": 14,
   "id": "35f4d7ba-f054-431c-86a0-9b46bc10ba22",
   "metadata": {},
   "outputs": [
    {
     "name": "stdin",
     "output_type": "stream",
     "text": [
      "Enter the number of processes:  3\n",
      "Enter Process ID:  1\n",
      "Enter Arrival Time:  0\n",
      "Enter Burst Time:  4\n",
      "Enter Priority:  2\n",
      "Enter Process ID:  2\n",
      "Enter Arrival Time:  1\n",
      "Enter Burst Time:  3\n",
      "Enter Priority:  1\n",
      "Enter Process ID:  3\n",
      "Enter Arrival Time:  2\n",
      "Enter Burst Time:  2\n",
      "Enter Priority:  3\n"
     ]
    },
    {
     "name": "stdout",
     "output_type": "stream",
     "text": [
      "Process ID | Arrival Time | Burst Time | Priority | Completion Time | Turnaround Time | Waiting Time\n",
      "1          | 0         | 4        | 2       | 4            | 4              | 0\n",
      "2          | 1         | 3        | 1       | 7            | 6              | 3\n",
      "3          | 2         | 2        | 3       | 9            | 7              | 5\n",
      "\n",
      "Average Turnaround Time: 5.67\n",
      "Average Waiting Time: 2.67\n"
     ]
    }
   ],
   "source": [
    "def priority_scheduling(processes):\n",
    "    # Sort processes by arrival time, then by priority (ascending)\n",
    "    processes.sort(key=lambda x: (x[1], x[3]))\n",
    "\n",
    "    current_time = 0\n",
    "    completion_time = []\n",
    "    turn_around_time = []\n",
    "    waiting_time = []\n",
    "\n",
    "    for pid, arrival_time, burst_time, priority in processes:\n",
    "        # If the current process arrives after the current time, advance current_time\n",
    "        if current_time < arrival_time:\n",
    "            current_time = arrival_time\n",
    "        \n",
    "        # Completion time = current time + burst time\n",
    "        comp_time = current_time + burst_time\n",
    "        completion_time.append(comp_time)\n",
    "\n",
    "        # Turnaround time = completion time - arrival time\n",
    "        turn_around_time.append(comp_time - arrival_time)\n",
    "\n",
    "        # Waiting time = turnaround time - burst time\n",
    "        waiting_time.append(turn_around_time[-1] - burst_time)\n",
    "\n",
    "        # Update current time\n",
    "        current_time = comp_time\n",
    "\n",
    "    # Print results\n",
    "    print(\"Process ID | Arrival Time | Burst Time | Priority | Completion Time | Turnaround Time | Waiting Time\")\n",
    "    for i, (pid, arrival_time, burst_time, priority) in enumerate(processes):\n",
    "        print(f\"{pid}          | {arrival_time}         | {burst_time}        | {priority}       | {completion_time[i]}            | {turn_around_time[i]}              | {waiting_time[i]}\")\n",
    "\n",
    "    avg_turnaround_time = sum(turn_around_time) / len(processes)\n",
    "    avg_waiting_time = sum(waiting_time) / len(processes)\n",
    "\n",
    "    print(f\"\\nAverage Turnaround Time: {avg_turnaround_time:.2f}\")\n",
    "    print(f\"Average Waiting Time: {avg_waiting_time:.2f}\")\n",
    "\n",
    "# Take input and run the scheduling\n",
    "def take_input():\n",
    "    n = int(input(\"Enter the number of processes: \"))\n",
    "    processes = []\n",
    "\n",
    "    for _ in range(n):\n",
    "        pid = int(input(\"Enter Process ID: \"))\n",
    "        arrival_time = int(input(\"Enter Arrival Time: \"))\n",
    "        burst_time = int(input(\"Enter Burst Time: \"))\n",
    "        priority = int(input(\"Enter Priority: \"))\n",
    "        processes.append((pid, arrival_time, burst_time, priority))\n",
    "\n",
    "    priority_scheduling(processes)\n",
    "\n",
    "# Run the program\n",
    "take_input()\n"
   ]
  },
  {
   "cell_type": "markdown",
   "id": "8ef94380-b560-403e-98a3-b56ff179795e",
   "metadata": {},
   "source": [
    "First Fit BEST FIT WORST FIT"
   ]
  },
  {
   "cell_type": "code",
   "execution_count": 88,
   "id": "6d3246ce-73a9-4a74-a6c7-06905c357c33",
   "metadata": {},
   "outputs": [
    {
     "name": "stdout",
     "output_type": "stream",
     "text": [
      "First Fit Allocation:\n",
      "Process 100 allocated to Block 120\n",
      "Process 200 allocated to Block 400\n",
      "Process 300 allocated to Block 399\n",
      "\n",
      "Best Fit Allocation:\n",
      "Process 100 allocated to Block 120\n",
      "Process 200 allocated to Block 399\n",
      "Process 300 allocated to Block 400\n",
      "\n",
      "Worst Fit Allocation:\n",
      "Process 100 allocated to Block 400\n",
      "Process 200 allocated to Block 399\n",
      "Process 300 allocated to Block 300\n"
     ]
    }
   ],
   "source": [
    "# First Fit Memory Allocation\n",
    "def first_fit(processes, memory):\n",
    "    for p in processes:\n",
    "        for i in range(len(memory)):\n",
    "            if memory[i] >= p:  # If block can accommodate process\n",
    "                print(f\"Process {p} allocated to Block {memory[i]}\")\n",
    "                memory[i] -= p  # Reduce block size after allocation\n",
    "                break\n",
    "        else:\n",
    "            print(f\"Process {p} not allocated\")\n",
    "\n",
    "# Best Fit Memory Allocation\n",
    "def best_fit(processes, memory):\n",
    "    for p in processes:\n",
    "        # Find the smallest block that is large enough\n",
    "        best = [b for b in memory if b >= p]\n",
    "        if best:\n",
    "            block = min(best)\n",
    "            print(f\"Process {p} allocated to Block {block}\")\n",
    "            memory[memory.index(block)] -= p  # Reduce block size after allocation\n",
    "        else:\n",
    "            print(f\"Process {p} not allocated\")\n",
    "\n",
    "# Worst Fit Memory Allocation\n",
    "def worst_fit(processes, memory):\n",
    "    for p in processes:\n",
    "        # Find the largest block that is large enough\n",
    "        worst = [b for b in memory if b >= p]\n",
    "        if worst:\n",
    "            block = max(worst)\n",
    "            print(f\"Process {p} allocated to Block {block}\")\n",
    "            memory[memory.index(block)] -= p  # Reduce block size after allocation\n",
    "        else:\n",
    "            print(f\"Process {p} not allocated\")\n",
    "\n",
    "\n",
    "# Example Usage:\n",
    "\n",
    "# Input processes and memory blocks\n",
    "processes = [100, 200, 300]  # Process sizes\n",
    "memory = [120, 400, 399]     # Block sizes\n",
    "\n",
    "# First Fit\n",
    "print(\"First Fit Allocation:\")\n",
    "first_fit(processes, memory.copy())\n",
    "\n",
    "# Best Fit\n",
    "print(\"\\nBest Fit Allocation:\")\n",
    "best_fit(processes, memory.copy())\n",
    "\n",
    "# Worst Fit\n",
    "print(\"\\nWorst Fit Allocation:\")\n",
    "worst_fit(processes, memory.copy())\n"
   ]
  },
  {
   "cell_type": "markdown",
   "id": "3873fe40-d1f7-44b0-9692-f446288e6115",
   "metadata": {},
   "source": [
    "FIFO"
   ]
  },
  {
   "cell_type": "code",
   "execution_count": 91,
   "id": "d4849de9-8bd3-4e3e-bc97-4d5a21eef4cc",
   "metadata": {},
   "outputs": [
    {
     "name": "stdout",
     "output_type": "stream",
     "text": [
      "Total seek count: 632\n"
     ]
    }
   ],
   "source": [
    "def fifo_disk_scheduling(requests, start):\n",
    "    seek_count = 0\n",
    "    for i in range(len(requests)):\n",
    "        seek_count += abs(requests[i] - start)\n",
    "        start = requests[i]\n",
    "    return seek_count\n",
    "\n",
    "# Example Input\n",
    "requests = [98, 183, 41, 122, 14, 124, 65, 67]\n",
    "start = 53\n",
    "\n",
    "seek_count = fifo_disk_scheduling(requests, start)\n",
    "print(f\"Total seek count: {seek_count}\")\n"
   ]
  },
  {
   "cell_type": "markdown",
   "id": "f0e17740-5691-4007-8ea8-024b498f489d",
   "metadata": {},
   "source": [
    "SSTF"
   ]
  },
  {
   "cell_type": "code",
   "execution_count": 94,
   "id": "e5890476-7d2d-4a9a-a2b3-30ca82c49f67",
   "metadata": {},
   "outputs": [
    {
     "name": "stdout",
     "output_type": "stream",
     "text": [
      "Total seek count: 260\n"
     ]
    }
   ],
   "source": [
    "def sstf_disk_scheduling(requests, start):\n",
    "    seek_count = 0\n",
    "    requests.sort(key=lambda x: abs(x - start))\n",
    "    for i in range(len(requests)):\n",
    "        seek_count += abs(requests[i] - start)\n",
    "        start = requests[i]\n",
    "    return seek_count\n",
    "requests = [98, 183, 41, 122, 14, 124, 65, 67]\n",
    "start = 53\n",
    "seek_count = sstf_disk_scheduling(requests, start)\n",
    "print(f\"Total seek count: {seek_count}\")"
   ]
  },
  {
   "cell_type": "markdown",
   "id": "753f2d9b-ab0a-459a-a58c-0cd637d365af",
   "metadata": {},
   "source": [
    "LOOK\n"
   ]
  },
  {
   "cell_type": "code",
   "execution_count": 97,
   "id": "aa239154-3127-4443-94c2-7b901c85c351",
   "metadata": {},
   "outputs": [
    {
     "name": "stdout",
     "output_type": "stream",
     "text": [
      "Seek Sequence: [176, 168, 130, 120, 114, 79, 62, 34, 14, 9]\n",
      "Total Seek Operations: 293\n"
     ]
    }
   ],
   "source": [
    "def c_look(req, head, disk):\n",
    "    seek_seq = []\n",
    "    seek_operations = 0\n",
    "\n",
    "    \n",
    "    req.sort()\n",
    "\n",
    " # Divide requests into two lists: requests higher and lower than the current head\n",
    "    right = [r for r in req if r >= head]  # Requests on the right side of the head\n",
    "    left = [r for r in req if r < head]    # Requests on the left side of the head\n",
    "\n",
    "    # First, service the requests on the right side\n",
    "    for r in right:\n",
    "        seek_seq.append(r)\n",
    "        seek_operations += abs(r - head)\n",
    "        head = r\n",
    "\n",
    "    for r in left:\n",
    "        seek_seq.append(r)\n",
    "        seek_operations += abs(r - head)\n",
    "        head = r\n",
    "\n",
    "    return seek_operations, seek_seq\n",
    "requests = [176, 79, 34, 114, 168, 120, 9, 130, 62, 14]\n",
    "head = 50\n",
    "disk_size = 200\n",
    "\n",
    "seek_operations, seek_sequence = look(requests, head, disk_size)\n",
    "print(\"Seek Sequence:\", seek_sequence)\n",
    "print(\"Total Seek Operations:\", seek_operations)"
   ]
  },
  {
   "cell_type": "code",
   "execution_count": 99,
   "id": "7ac407d5-2fb9-49fc-80e6-36c9171e95fc",
   "metadata": {},
   "outputs": [
    {
     "name": "stdout",
     "output_type": "stream",
     "text": [
      "Seek Sequence: [62, 79, 114, 120, 130, 168, 176, 9, 14, 34]\n",
      "Total Seek Operations: 318\n"
     ]
    }
   ],
   "source": [
    "def c_look(req, head, disk):\n",
    "    seek_seq = []\n",
    "    seek_operations = 0\n",
    "\n",
    "    \n",
    "    req.sort()\n",
    "\n",
    " # Divide requests into two lists: requests higher and lower than the current head\n",
    "    right = [r for r in req if r >= head]  # Requests on the right side of the head\n",
    "    left = [r for r in req if r < head]    # Requests on the left side of the head\n",
    "\n",
    "    # First, service the requests on the right side\n",
    "    for r in right:\n",
    "        seek_seq.append(r)\n",
    "        seek_operations += abs(r - head)\n",
    "        head = r\n",
    "\n",
    "    # Jump to the leftmost request if it exists and service the left side\n",
    "    if left:\n",
    "        seek_operations += abs(head - left[0])\n",
    "        head = left[0]\n",
    "        for r in left:\n",
    "            seek_seq.append(r)\n",
    "            seek_operations += abs(r - head)\n",
    "            head = r\n",
    "\n",
    "    return seek_operations, seek_seq\n",
    "requests = [176, 79, 34, 114, 168, 120, 9, 130, 62, 14]\n",
    "head = 50\n",
    "disk_size = 200\n",
    "\n",
    "seek_operations, seek_sequence = c_look(requests, head, disk_size)\n",
    "print(\"Seek Sequence:\", seek_sequence)\n",
    "print(\"Total Seek Operations:\", seek_operations)"
   ]
  },
  {
   "cell_type": "code",
   "execution_count": 101,
   "id": "f0a6b68e-209f-4f90-a765-f1b308d8c872",
   "metadata": {},
   "outputs": [
    {
     "name": "stdout",
     "output_type": "stream",
     "text": [
      "Seek Sequence: [199, 176, 168, 130, 120, 114, 79, 62, 34, 14, 9, 0]\n",
      "Total Seek Operations: 348\n"
     ]
    }
   ],
   "source": [
    "def scan(req, head, disk):\n",
    "    seek_seq = []\n",
    "    seek_operations = 0\n",
    "\n",
    "    req.append(0)\n",
    "    req.append(disk - 1)\n",
    "    req.sort()\n",
    "\n",
    "    for req in reversed(req):\n",
    "        if req < head:\n",
    "            seek_seq.append(req)\n",
    "            seek_operations += abs(req - head)\n",
    "            head = req\n",
    "\n",
    "        if req > head:\n",
    "            seek_seq.append(req)\n",
    "            seek_operations += abs(req - head)\n",
    "            head = req\n",
    "    return seek_operations, seek_seq\n",
    "requests = [176, 79, 34, 114, 168, 120, 9, 130, 62, 14]\n",
    "head = 50\n",
    "disk_size = 200\n",
    "\n",
    "seek_operations, seek_sequence = scan(requests, head, disk_size)\n",
    "print(\"Seek Sequence:\", seek_sequence)\n",
    "print(\"Total Seek Operations:\", seek_operations)"
   ]
  },
  {
   "cell_type": "code",
   "execution_count": 103,
   "id": "94e0236b-22ea-4a2a-98ad-bd4a291a52bc",
   "metadata": {},
   "outputs": [
    {
     "name": "stdout",
     "output_type": "stream",
     "text": [
      "Seek Sequence: [62, 79, 114, 120, 130, 168, 176, 199, 0, 9, 14, 34]\n",
      "Total Seek Operations: 183\n"
     ]
    }
   ],
   "source": [
    "def c_scan(req, head, disk_size):\n",
    "    seek_seq = []\n",
    "    seek_operations = 0\n",
    "\n",
    "    # Add the start (0) and end (disk_size - 1) of the disk to simulate a circular movement\n",
    "    req.append(0)\n",
    "    req.append(disk_size - 1)\n",
    "    req.sort()\n",
    "\n",
    "    # Divide requests into two lists: requests higher and lower than the current head\n",
    "    right = [r for r in req if r >= head]  # Requests on the right side of the head\n",
    "    left = [r for r in req if r < head]    # Requests on the left side of the head\n",
    "\n",
    "    # First, service the requests on the right side (increasing order)\n",
    "    for r in right:\n",
    "        seek_seq.append(r)\n",
    "        seek_operations += abs(r - head)\n",
    "        head = r\n",
    "\n",
    "    # After reaching the highest request, jump to the lowest request\n",
    "    if left:\n",
    "        seek_operations += abs(head - disk_size + 1)  # Jump to end of disk\n",
    "        head = 0  # Start at the beginning\n",
    "\n",
    "        # Continue servicing the requests on the left side (in increasing order)\n",
    "        for r in left:\n",
    "            seek_seq.append(r)\n",
    "            seek_operations += abs(r - head)\n",
    "            head = r\n",
    "\n",
    "    return seek_operations, seek_seq\n",
    "\n",
    "\n",
    "# Input requests and parameters\n",
    "requests = [176, 79, 34, 114, 168, 120, 9, 130, 62, 14]\n",
    "head = 50\n",
    "disk_size = 200\n",
    "\n",
    "# Run C-SCAN algorithm\n",
    "seek_operations, seek_sequence = c_scan(requests, head, disk_size)\n",
    "\n",
    "# Print results\n",
    "print(\"Seek Sequence:\", seek_sequence)\n",
    "print(\"Total Seek Operations:\", seek_operations)\n"
   ]
  },
  {
   "cell_type": "code",
   "execution_count": 105,
   "id": "0077cadd-2536-4381-91ba-c93086491228",
   "metadata": {},
   "outputs": [
    {
     "name": "stdout",
     "output_type": "stream",
     "text": [
      "FIFO Page Replacement\n",
      "Page: 7 | Memory: [7]\n",
      "Page: 0 | Memory: [7, 0]\n",
      "Page: 1 | Memory: [7, 0, 1]\n",
      "Page: 2 | Memory: [0, 1, 2]\n",
      "Page: 0 | Memory: [0, 1, 2]\n",
      "Page: 3 | Memory: [1, 2, 3]\n",
      "Page: 0 | Memory: [2, 3, 0]\n",
      "Page: 4 | Memory: [3, 0, 4]\n",
      "Page: 2 | Memory: [0, 4, 2]\n",
      "Page: 3 | Memory: [4, 2, 3]\n",
      "Page: 0 | Memory: [2, 3, 0]\n",
      "Page: 3 | Memory: [2, 3, 0]\n",
      "Page: 2 | Memory: [2, 3, 0]\n",
      "Page: 1 | Memory: [3, 0, 1]\n",
      "Page: 2 | Memory: [0, 1, 2]\n",
      "Page: 0 | Memory: [0, 1, 2]\n",
      "Page: 1 | Memory: [0, 1, 2]\n",
      "Page: 7 | Memory: [1, 2, 7]\n",
      "Page: 0 | Memory: [2, 7, 0]\n",
      "Page: 1 | Memory: [7, 0, 1]\n",
      "Total Page Faults (FIFO): 15\n",
      "Total Page Hits (FIFO): 5\n",
      "\n",
      "LRU Page Replacement\n",
      "Page: 7 | Memory: [7]\n",
      "Page: 0 | Memory: [7, 0]\n",
      "Page: 1 | Memory: [7, 0, 1]\n",
      "Page: 2 | Memory: [0, 1, 2]\n",
      "Page: 0 | Memory: [1, 2, 0]\n",
      "Page: 3 | Memory: [2, 0, 3]\n",
      "Page: 0 | Memory: [2, 3, 0]\n",
      "Page: 4 | Memory: [3, 0, 4]\n",
      "Page: 2 | Memory: [0, 4, 2]\n",
      "Page: 3 | Memory: [4, 2, 3]\n",
      "Page: 0 | Memory: [2, 3, 0]\n",
      "Page: 3 | Memory: [2, 0, 3]\n",
      "Page: 2 | Memory: [0, 3, 2]\n",
      "Page: 1 | Memory: [3, 2, 1]\n",
      "Page: 2 | Memory: [3, 1, 2]\n",
      "Page: 0 | Memory: [1, 2, 0]\n",
      "Page: 1 | Memory: [2, 0, 1]\n",
      "Page: 7 | Memory: [0, 1, 7]\n",
      "Page: 0 | Memory: [1, 7, 0]\n",
      "Page: 1 | Memory: [7, 0, 1]\n",
      "Total Page Faults (LRU): 12\n",
      "Total Page Hits (LRU): 8\n",
      "\n",
      "Optimal Page Replacement\n",
      "Page: 7 | Memory: [7]\n",
      "Page: 0 | Memory: [7, 0]\n",
      "Page: 1 | Memory: [7, 0, 1]\n",
      "Page: 2 | Memory: [0, 1, 2]\n",
      "Page: 0 | Memory: [0, 1, 2]\n",
      "Page: 3 | Memory: [0, 2, 3]\n",
      "Page: 0 | Memory: [0, 2, 3]\n",
      "Page: 4 | Memory: [2, 3, 4]\n",
      "Page: 2 | Memory: [2, 3, 4]\n",
      "Page: 3 | Memory: [2, 3, 4]\n",
      "Page: 0 | Memory: [2, 3, 0]\n",
      "Page: 3 | Memory: [2, 3, 0]\n",
      "Page: 2 | Memory: [2, 3, 0]\n",
      "Page: 1 | Memory: [2, 0, 1]\n",
      "Page: 2 | Memory: [2, 0, 1]\n",
      "Page: 0 | Memory: [2, 0, 1]\n",
      "Page: 1 | Memory: [2, 0, 1]\n",
      "Page: 7 | Memory: [0, 1, 7]\n",
      "Page: 0 | Memory: [0, 1, 7]\n",
      "Page: 1 | Memory: [0, 1, 7]\n",
      "Total Page Faults (Optimal): 9\n",
      "Total Page Hits (Optimal): 11\n",
      "\n"
     ]
    }
   ],
   "source": [
    "def fifo_page_replacement(pages, capacity):\n",
    "    memory = []\n",
    "    page_faults = 0\n",
    "    page_hits = 0\n",
    "\n",
    "    for page in pages:\n",
    "        if page not in memory:\n",
    "            # Page fault occurs\n",
    "            page_faults += 1\n",
    "            if len(memory) == capacity:\n",
    "                memory.pop(0)  # Remove the oldest page\n",
    "            memory.append(page)\n",
    "        else:\n",
    "            # Page hit\n",
    "            page_hits += 1\n",
    "\n",
    "        print(f\"Page: {page} | Memory: {memory}\")\n",
    "\n",
    "    return page_faults, page_hits\n",
    "\n",
    "\n",
    "def lru_page_replacement(pages, capacity):\n",
    "    memory = []\n",
    "    page_faults = 0\n",
    "    page_hits = 0\n",
    "\n",
    "    for page in pages:\n",
    "        if page not in memory:\n",
    "            # Page fault occurs\n",
    "            page_faults += 1\n",
    "            if len(memory) == capacity:\n",
    "                memory.pop(0)  # Remove the least recently used page\n",
    "            memory.append(page)\n",
    "        else:\n",
    "            # Page hit\n",
    "            page_hits += 1\n",
    "            # Remove the page and append it to the end to update its usage\n",
    "            memory.remove(page)\n",
    "            memory.append(page)\n",
    "\n",
    "        print(f\"Page: {page} | Memory: {memory}\")\n",
    "\n",
    "    return page_faults, page_hits\n",
    "\n",
    "\n",
    "def optimal_page_replacement(pages, capacity):\n",
    "    memory = []\n",
    "    page_faults = 0\n",
    "    page_hits = 0\n",
    "\n",
    "    for i, page in enumerate(pages):\n",
    "        if page not in memory:\n",
    "            # Page fault occurs\n",
    "            page_faults += 1\n",
    "            if len(memory) == capacity:\n",
    "                # Find the page not used for the longest time in the future\n",
    "                future_uses = [pages[i + 1:].index(p) if p in pages[i + 1:] else float('inf') for p in memory]\n",
    "                farthest = future_uses.index(max(future_uses))\n",
    "                memory.pop(farthest)\n",
    "            memory.append(page)\n",
    "        else:\n",
    "            # Page hit\n",
    "            page_hits += 1\n",
    "\n",
    "        print(f\"Page: {page} | Memory: {memory}\")\n",
    "\n",
    "    return page_faults, page_hits\n",
    "\n",
    "\n",
    "# Example usage\n",
    "pages = [7, 0, 1, 2, 0, 3, 0, 4, 2, 3, 0, 3, 2, 1, 2, 0, 1, 7, 0, 1]\n",
    "capacity = 3\n",
    "\n",
    "print(\"FIFO Page Replacement\")\n",
    "fifo_faults, fifo_hits = fifo_page_replacement(pages, capacity)\n",
    "print(f\"Total Page Faults (FIFO): {fifo_faults}\")\n",
    "print(f\"Total Page Hits (FIFO): {fifo_hits}\\n\")\n",
    "\n",
    "print(\"LRU Page Replacement\")\n",
    "lru_faults, lru_hits = lru_page_replacement(pages, capacity)\n",
    "print(f\"Total Page Faults (LRU): {lru_faults}\")\n",
    "print(f\"Total Page Hits (LRU): {lru_hits}\\n\")\n",
    "\n",
    "print(\"Optimal Page Replacement\")\n",
    "optimal_faults, optimal_hits = optimal_page_replacement(pages, capacity)\n",
    "print(f\"Total Page Faults (Optimal): {optimal_faults}\")\n",
    "print(f\"Total Page Hits (Optimal): {optimal_hits}\\n\")"
   ]
  },
  {
   "cell_type": "markdown",
   "id": "b6b874fc-d019-4434-97db-58fb33ff46bb",
   "metadata": {},
   "source": [
    "PRODUCER CONSUMER \n"
   ]
  },
  {
   "cell_type": "code",
   "execution_count": null,
   "id": "84e6a0d7-fd17-490a-a6ec-b56f2a37a968",
   "metadata": {},
   "outputs": [
    {
     "name": "stdout",
     "output_type": "stream",
     "text": [
      "The Maximum size is 8\n"
     ]
    }
   ],
   "source": [
    "import threading \n",
    "\n",
    "stack = [] \n",
    "max_size = 8 \n",
    "\n",
    "empty = threading.Semaphore(max_size) \n",
    "full = threading.Semaphore(0) \n",
    "mutex = threading.Lock() \n",
    "\n",
    "print('The Maximum size is', max_size)\n",
    "\n",
    "def producer():\n",
    "    while True:\n",
    "        action = input(\"Do you want to produce or consume? (p/c): \").strip().lower()\n",
    "        \n",
    "        if action == 'p': \n",
    "            num_items = int(input(\"Enter number of items to produce: \")) \n",
    "            \n",
    "            if num_items + len(stack) > max_size: \n",
    "                print(\"Buffer is full. Please produce fewer items.\") \n",
    "                continue \n",
    "            \n",
    "            for _ in range(num_items): \n",
    "                empty.acquire() \n",
    "                mutex.acquire() \n",
    "                \n",
    "                item = f\"Item-{len(stack) + 1}\" \n",
    "                stack.append(item) \n",
    "                print(f\"Produced: {item}. Stack: {stack}\")\n",
    "                \n",
    "                mutex.release() \n",
    "                full.release() \n",
    "        \n",
    "        elif action == 'c': \n",
    "            num_items = int(input(\"Enter number of items to consume: \")) \n",
    "            \n",
    "            if num_items > len(stack): \n",
    "                print(\"Buffer is empty.\") \n",
    "                continue \n",
    "            \n",
    "            for _ in range(num_items): \n",
    "                full.acquire() \n",
    "                mutex.acquire() \n",
    "                \n",
    "                item = stack.pop() \n",
    "                print(f\"Consumed: {item}. Stack: {stack}\")\n",
    "                \n",
    "                mutex.release() \n",
    "                empty.release() \n",
    "        \n",
    "        else: \n",
    "            print(\"Invalid input. Please enter 'p' to produce or 'c' to consume.\") \n",
    "\n",
    "def main(): \n",
    "    producer_thread = threading.Thread(target=producer) \n",
    "    producer_thread.start() \n",
    "    producer_thread.join()\n",
    "\n",
    "main()."
   ]
  },
  {
   "cell_type": "markdown",
   "id": "ed33c65a-c109-49d2-9c97-1c1616f4720f",
   "metadata": {},
   "source": [
    "BANKERS ALGORITHM"
   ]
  },
  {
   "cell_type": "code",
   "execution_count": 2,
   "id": "11088f0b-2b24-4302-8deb-4f4203c6d33c",
   "metadata": {},
   "outputs": [
    {
     "name": "stdout",
     "output_type": "stream",
     "text": [
      "Safe sequence: [0, 1, 2, 3, 4]\n"
     ]
    }
   ],
   "source": [
    "def is_safe(available, max_demand, allocation):\n",
    "    num_process = len(max_demand)\n",
    "    num_resources = len(available)\n",
    "\n",
    "    # Calculate the need matrix\n",
    "    need = [[max_demand[i][j] - allocation[i][j] for j in range(num_resources)] for i in range(num_process)]\n",
    "\n",
    "    work = available[:]\n",
    "    finish = [False] * num_process\n",
    "    safe_seq = []\n",
    "\n",
    "    while len(safe_seq) < num_process:\n",
    "        for i in range(num_process):\n",
    "            # Check if process i can finish\n",
    "            if not finish[i] and all(need[i][j] <= work[j] for j in range(num_resources)):\n",
    "                # Simulate the allocation of resources\n",
    "                work = [work[j] + allocation[i][j] for j in range(num_resources)]\n",
    "                finish[i] = True\n",
    "                safe_seq.append(i)\n",
    "                break\n",
    "\n",
    "        else:\n",
    "            break  # No safe sequence found\n",
    "\n",
    "    return True, safe_seq  # Safe sequence found\n",
    "available = [10, 5, 7]\n",
    "max_demand = [[7, 5, 3], [3, 2, 2], [9, 0, 2], [2, 2, 2], [4, 3, 3]]\n",
    "allocation = [[0, 0, 0], [2, 0, 0], [3, 0, 2], [2, 1, 1], [0, 0, 2]]\n",
    "\n",
    "is_safe, safe_seq = is_safe(available, max_demand, allocation)\n",
    "\n",
    "if is_safe:\n",
    "    print(\"Safe sequence:\", safe_seq)\n",
    "else:\n",
    "    print(\"System is unsafe\")\n"
   ]
  },
  {
   "cell_type": "markdown",
   "id": "441a9412-e316-47a3-adbd-fae7604f9602",
   "metadata": {},
   "source": [
    "NON PREMPTIVE "
   ]
  },
  {
   "cell_type": "code",
   "execution_count": 11,
   "id": "5bf1cdce-8b1b-44c0-aad3-f714a0f9fd5f",
   "metadata": {},
   "outputs": [
    {
     "name": "stdout",
     "output_type": "stream",
     "text": [
      "Processes   : [(1, 2), (2, 1), (3, 3)]\n",
      "Completion Time (CT): [3, 4, 7]\n",
      "Turnaround Time (TAT): [2, 2, 4]\n",
      "Waiting Time (WT)    : [0, 1, 1]\n"
     ]
    }
   ],
   "source": [
    "# Process list: (arrival time, burst time)\n",
    "processes = sorted([(1, 2), (2, 1), (3, 3)], key=lambda x: x[0])  # Sort by arrival time\n",
    "\n",
    "# Initialize variables\n",
    "completion_time, turnaround_time, waiting_time, current_time = [], [], [], 0\n",
    "\n",
    "# Calculate Completion Time (CT), Turnaround Time (TAT), and Waiting Time (WT)\n",
    "for arrival, burst in processes:\n",
    "    current_time = max(current_time, arrival) + burst  # Move to the arrival time if idle, then add burst\n",
    "    completion_time.append(current_time)\n",
    "    turnaround_time.append(current_time - arrival)\n",
    "    waiting_time.append(current_time - arrival - burst)\n",
    "\n",
    "# Display results\n",
    "print(\"Processes   :\", [(arrival, burst) for arrival, burst in processes])\n",
    "print(\"Completion Time (CT):\", completion_time)\n",
    "print(\"Turnaround Time (TAT):\", turnaround_time)\n",
    "print(\"Waiting Time (WT)    :\", waiting_time)\n"
   ]
  },
  {
   "cell_type": "code",
   "execution_count": 13,
   "id": "e1a4cda0-f154-4f65-8d4a-271de602535b",
   "metadata": {},
   "outputs": [
    {
     "name": "stdout",
     "output_type": "stream",
     "text": [
      "Processes            : Arrival | Burst\n",
      "                       2       | 8\n",
      "\n",
      "Completion Time (CT) :  [7, 10, 17]\n",
      "Turnaround Time (TAT):  [6, 6, 14]\n",
      "Waiting Time (WT)    :  [0, 3, 7]\n"
     ]
    }
   ],
   "source": [
    "# Process list: (arrival time, burst time)\n",
    "processes = [(1, 6), (2, 8), (3, 7), (4, 3)]\n",
    "\n",
    "# Initialize variables\n",
    "completion_time, turnaround_time, waiting_time = [], [], []\n",
    "current_time = 0\n",
    "num_processes = len(processes)\n",
    "\n",
    "# Calculate Completion Time (CT), Turnaround Time (TAT), and Waiting Time (WT)\n",
    "for _ in range(num_processes):\n",
    "    # Select the process with the shortest burst time among those that have arrived\n",
    "    available_processes = [p for p in processes if p[0] <= current_time]\n",
    "    if available_processes:\n",
    "        arrival, burst = min(available_processes, key=lambda x: x[1])\n",
    "        processes.remove((arrival, burst))\n",
    "        current_time = max(current_time, arrival) + burst\n",
    "        completion_time.append(current_time)\n",
    "        turnaround_time.append(current_time - arrival)\n",
    "        waiting_time.append(current_time - arrival - burst)\n",
    "    else:\n",
    "        # If no process has arrived yet, move to the next arrival time\n",
    "        current_time = min(processes, key=lambda x: x[0])[0]\n",
    "\n",
    "# Display results\n",
    "print(\"Processes            : Arrival | Burst\")\n",
    "for p in processes:\n",
    "    print(f\"                       {p[0]}       | {p[1]}\")\n",
    "print(\"\\nCompletion Time (CT) : \", completion_time)\n",
    "print(\"Turnaround Time (TAT): \", turnaround_time)\n",
    "print(\"Waiting Time (WT)    : \", waiting_time)\n"
   ]
  },
  {
   "cell_type": "code",
   "execution_count": 17,
   "id": "438b9f75-c47d-4af3-85d8-236fc0f16d98",
   "metadata": {},
   "outputs": [
    {
     "name": "stdout",
     "output_type": "stream",
     "text": [
      "CT: [4, 5] \n",
      "TAT: [3, 3] \n",
      "WT: [0, 2]\n"
     ]
    }
   ],
   "source": [
    "# Process list: (arrival time, burst time, priority)\n",
    "processes = [(1, 3, 2), (2, 1, 1), (3, 2, 3)]\n",
    "\n",
    "# Initialize variables\n",
    "ct, tat, wt, t = [], [], [], 0\n",
    "\n",
    "# Process scheduling loop\n",
    "for _ in range(len(processes)):\n",
    "    # Select the available process with the highest priority and earliest arrival time\n",
    "    available_processes = [p for p in processes if p[0] <= t]\n",
    "    \n",
    "    if available_processes:\n",
    "        # Select the process with the highest priority (lowest number)\n",
    "        arrival, burst, priority = min(available_processes, key=lambda x: (x[2], x[0]))\n",
    "        processes.remove((arrival, burst, priority))\n",
    "        t = max(t, arrival) + burst  # Update current time\n",
    "        ct.append(t)\n",
    "        tat.append(t - arrival)  # TAT = CT - Arrival\n",
    "        wt.append(t - arrival - burst)  # WT = TAT - Burst\n",
    "    else:\n",
    "        # If no process has arrived, move the time to the next arrival\n",
    "        t = min(processes, key=lambda x: x[0])[0]\n",
    "\n",
    "# Display results\n",
    "print(\"CT:\", ct, \"\\nTAT:\", tat, \"\\nWT:\", wt)\n"
   ]
  },
  {
   "cell_type": "code",
   "execution_count": 6,
   "id": "d7443552-746a-41f6-9911-b0329bbaf58f",
   "metadata": {},
   "outputs": [
    {
     "name": "stdin",
     "output_type": "stream",
     "text": [
      "Enter number of processes:  3\n",
      "Enter priority, arrival time, and burst time:  2 0 4\n",
      "Enter priority, arrival time, and burst time:  1 1 3\n",
      "Enter priority, arrival time, and burst time:  3 2 2\n"
     ]
    },
    {
     "name": "stdout",
     "output_type": "stream",
     "text": [
      "Time 0: Process 1 runs (Priority: 2, Remaining Burst Time: 4)\n",
      "Time 1: Process 2 runs (Priority: 1, Remaining Burst Time: 3)\n",
      "Time 2: Process 2 runs (Priority: 1, Remaining Burst Time: 2)\n",
      "Time 3: Process 2 runs (Priority: 1, Remaining Burst Time: 1)\n",
      "Time 4: Process 1 runs (Priority: 2, Remaining Burst Time: 3)\n",
      "Time 5: Process 1 runs (Priority: 2, Remaining Burst Time: 2)\n",
      "Time 6: Process 1 runs (Priority: 2, Remaining Burst Time: 1)\n",
      "Time 7: Process 3 runs (Priority: 3, Remaining Burst Time: 2)\n",
      "Time 8: Process 3 runs (Priority: 3, Remaining Burst Time: 1)\n"
     ]
    }
   ],
   "source": [
    "n = int(input(\"Enter number of processes: \"))\n",
    "processes = [list(map(int, input(\"Enter priority, arrival time, and burst time: \").split())) for _ in range(n)]\n",
    "processes.sort(key=lambda x: (x[1]))  # Sort by arrival time\n",
    "\n",
    "remaining_burst = [bt for _, _, bt in processes]\n",
    "for time in range(sum(bt for _, _, bt in processes)):\n",
    "    idx = min((i for i in range(n) if processes[i][1] <= time and remaining_burst[i] > 0), key=lambda i: processes[i][0], default=-1)\n",
    "    if idx != -1: \n",
    "        print(f\"Time {time}: Process {idx + 1} runs (Priority: {processes[idx][0]}, Remaining Burst Time: {remaining_burst[idx]})\")\n",
    "        remaining_burst[idx] -= 1"
   ]
  },
  {
   "cell_type": "code",
   "execution_count": 8,
   "id": "bdc16220-303f-49b8-95f4-df4704aa96c6",
   "metadata": {},
   "outputs": [
    {
     "name": "stdin",
     "output_type": "stream",
     "text": [
      "Enter number of processes:  3\n",
      "Enter arrival and burst time:  0 4\n",
      "Enter arrival and burst time:  1 3\n",
      "Enter arrival and burst time:  2 2\n"
     ]
    },
    {
     "name": "stdout",
     "output_type": "stream",
     "text": [
      "Time 0: Process 1 runs (Remaining Burst Time: 4)\n",
      "Time 1: Process 1 runs (Remaining Burst Time: 3)\n",
      "Time 2: Process 1 runs (Remaining Burst Time: 2)\n",
      "Time 3: Process 1 runs (Remaining Burst Time: 1)\n",
      "Time 4: Process 3 runs (Remaining Burst Time: 2)\n",
      "Time 5: Process 3 runs (Remaining Burst Time: 1)\n",
      "Time 6: Process 2 runs (Remaining Burst Time: 3)\n",
      "Time 7: Process 2 runs (Remaining Burst Time: 2)\n",
      "Time 8: Process 2 runs (Remaining Burst Time: 1)\n"
     ]
    }
   ],
   "source": [
    "n = int(input(\"Enter number of processes: \"))\n",
    "processes = [list(map(int, input(\"Enter arrival and burst time: \").split())) for _ in range(n)]\n",
    "processes.sort()  # Sorting by arrival time\n",
    "\n",
    "remaining_burst = [bt for _, bt in processes]  # Copy of burst times\n",
    "completed = 0  # Number of completed processes\n",
    "for time in range(sum(bt for _, bt in processes)):  # Loop through total burst time\n",
    "    idx = min((i for i in range(n) if processes[i][0] <= time and remaining_burst[i] > 0), key=lambda i: remaining_burst[i], default=-1)\n",
    "    \n",
    "    if idx != -1:\n",
    "        print(f\"Time {time}: Process {idx + 1} runs (Remaining Burst Time: {remaining_burst[idx]})\")\n",
    "        remaining_burst[idx] -= 1\n",
    "        if remaining_burst[idx] == 0:\n",
    "            completed += 1\n"
   ]
  },
  {
   "cell_type": "code",
   "execution_count": null,
   "id": "01ad6a3e-13bd-4fe3-98a5-3e5880c144c6",
   "metadata": {},
   "outputs": [],
   "source": [
    "|"
   ]
  }
 ],
 "metadata": {
  "kernelspec": {
   "display_name": "Python 3 (ipykernel)",
   "language": "python",
   "name": "python3"
  },
  "language_info": {
   "codemirror_mode": {
    "name": "ipython",
    "version": 3
   },
   "file_extension": ".py",
   "mimetype": "text/x-python",
   "name": "python",
   "nbconvert_exporter": "python",
   "pygments_lexer": "ipython3",
   "version": "3.12.4"
  }
 },
 "nbformat": 4,
 "nbformat_minor": 5
}
