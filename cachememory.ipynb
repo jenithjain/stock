{
 "cells": [
  {
   "cell_type": "code",
   "execution_count": 1,
   "metadata": {},
   "outputs": [
    {
     "name": "stdout",
     "output_type": "stream",
     "text": [
      "Miss 1 0x80000014 [2147483668]\n",
      "Miss 2 0x80000024 [2147483668, 2147483684]\n",
      "Miss 3 0x80000028 [2147483668, 2147483684, 2147483688]\n",
      "Miss 4 0x8000002c [2147483668, 2147483684, 2147483688, 2147483692]\n",
      "Miss 5 0x80000030 [2147483684, 2147483688, 2147483692, 2147483696]\n",
      "Miss 6 0x80000014 [2147483688, 2147483692, 2147483696, 2147483668]\n",
      "Hit 1 0x8000002c [2147483688, 2147483692, 2147483696, 2147483668]\n",
      "Miss 7 0x80000010 [2147483692, 2147483696, 2147483668, 2147483664]\n",
      "Hit 2 0x80000014 [2147483692, 2147483696, 2147483668, 2147483664]\n",
      "Hit 3 0x80000030 [2147483692, 2147483696, 2147483668, 2147483664]\n",
      "Miss 8 0x80000018 [2147483696, 2147483668, 2147483664, 2147483672]\n",
      "Hit 4 0x80000014 [2147483696, 2147483668, 2147483664, 2147483672]\n",
      "Final Cache State: [2147483696, 2147483668, 2147483664, 2147483672]\n"
     ]
    }
   ],
   "source": [
    "# Fully Associative Cache Simulation\n",
    "# We will simulate the process using cache size and a sequence of memory addresses.\n",
    "\n",
    "class FullyAssociativeCache:\n",
    "    def __init__(self, cache_size):\n",
    "        self.cache_size = cache_size  # Number of cache slots\n",
    "        self.cache = []  # List to hold cache entries\n",
    "        self.hits = 0  # Counter for cache hits\n",
    "        self.misses = 0  # Counter for cache misses\n",
    "    \n",
    "    def access_memory(self, memory_address):\n",
    "        \"\"\"\n",
    "        Simulates accessing a memory address.\n",
    "        If the address is already in cache (hit), it will show the cache.\n",
    "        If the address is not in cache (miss), it will add it to the cache.\n",
    "        \"\"\"\n",
    "        # Check if the address is in cache\n",
    "        if memory_address in self.cache:\n",
    "            self.hits += 1\n",
    "            print(f\"Hit {self.hits} {hex(memory_address)}\", self.cache)\n",
    "        else:\n",
    "            self.misses += 1\n",
    "            if len(self.cache) < self.cache_size:\n",
    "                self.cache.append(memory_address)\n",
    "            else:\n",
    "                # If cache is full, replace the first element (FIFO-like)\n",
    "                self.cache.pop(0)\n",
    "                self.cache.append(memory_address)\n",
    "            print(f\"Miss {self.misses} {hex(memory_address)}\", self.cache)\n",
    "\n",
    "    def get_cache_status(self):\n",
    "        return self.cache\n",
    "\n",
    "# Memory address access sequence (in hexadecimal format)\n",
    "memory_addresses = [0x80000014, 0x80000024, 0x80000028, 0x8000002C, 0x80000030, 0x80000014, \n",
    "                    0x8000002C, 0x80000010, 0x80000014, 0x80000030, 0x80000018, 0x80000014]\n",
    "\n",
    "# Initialize the Fully Associative Cache with 4 slots\n",
    "cache = FullyAssociativeCache(4)\n",
    "\n",
    "# Access each memory address and simulate cache operations\n",
    "for address in memory_addresses:\n",
    "    cache.access_memory(address)\n",
    "\n",
    "print(f\"Final Cache State: {cache.get_cache_status()}\")\n"
   ]
  },
  {
   "cell_type": "code",
   "execution_count": null,
   "metadata": {},
   "outputs": [],
   "source": []
  }
 ],
 "metadata": {
  "kernelspec": {
   "display_name": "Python 3",
   "language": "python",
   "name": "python3"
  },
  "language_info": {
   "codemirror_mode": {
    "name": "ipython",
    "version": 3
   },
   "file_extension": ".py",
   "mimetype": "text/x-python",
   "name": "python",
   "nbconvert_exporter": "python",
   "pygments_lexer": "ipython3",
   "version": "3.12.4"
  }
 },
 "nbformat": 4,
 "nbformat_minor": 2
}
